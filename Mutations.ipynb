{
  "nbformat": 4,
  "nbformat_minor": 0,
  "metadata": {
    "colab": {
      "provenance": []
    },
    "kernelspec": {
      "name": "python3",
      "display_name": "Python 3"
    },
    "language_info": {
      "name": "python"
    }
  },
  "cells": [
    {
      "cell_type": "code",
      "execution_count": 36,
      "metadata": {
        "id": "fml7VXdxXHFu"
      },
      "outputs": [],
      "source": [
        "def mutate_string(string, position, character):\n",
        "    string = list(string)\n",
        "    string[position] = character\n",
        "    new = ''.join(string)\n",
        "    return new\n",
        "\n",
        "if __name__ == '__main__':\n",
        "    s = input()\n",
        "    i, c = input().split()\n",
        "    s_new = mutate_string(s, int(i), c)\n",
        "    print(s_new)"
      ]
    },
    {
      "cell_type": "code",
      "source": [],
      "metadata": {
        "id": "jmSTx647dLNi"
      },
      "execution_count": null,
      "outputs": []
    }
  ]
}