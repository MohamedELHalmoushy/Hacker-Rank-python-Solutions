{
  "nbformat": 4,
  "nbformat_minor": 0,
  "metadata": {
    "colab": {
      "provenance": []
    },
    "kernelspec": {
      "name": "python3",
      "display_name": "Python 3"
    },
    "language_info": {
      "name": "python"
    }
  },
  "cells": [
    {
      "cell_type": "code",
      "execution_count": 27,
      "metadata": {
        "colab": {
          "base_uri": "https://localhost:8080/"
        },
        "id": "fml7VXdxXHFu",
        "outputId": "70478f07-6687-474f-8473-7b59c1ea6ab9"
      },
      "outputs": [
        {
          "output_type": "stream",
          "name": "stdout",
          "text": [
            "Mohamed Ayman EL Halmoushy\n",
            "Mohamed-Ayman-EL-Halmoushy\n"
          ]
        }
      ],
      "source": [
        "def split_and_join(line):\n",
        "    line=line.split(\" \")\n",
        "    line=\"-\".join(line)\n",
        "    return line\n",
        "\n",
        "if __name__ == '__main__':\n",
        "    line = input()\n",
        "    result = split_and_join(line)\n",
        "    print(result)\n"
      ]
    },
    {
      "cell_type": "code",
      "source": [],
      "metadata": {
        "id": "jmSTx647dLNi"
      },
      "execution_count": null,
      "outputs": []
    }
  ]
}