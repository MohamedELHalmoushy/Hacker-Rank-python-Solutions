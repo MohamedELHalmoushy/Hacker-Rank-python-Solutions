{
  "nbformat": 4,
  "nbformat_minor": 0,
  "metadata": {
    "colab": {
      "provenance": []
    },
    "kernelspec": {
      "name": "python3",
      "display_name": "Python 3"
    },
    "language_info": {
      "name": "python"
    }
  },
  "cells": [
    {
      "cell_type": "code",
      "execution_count": 57,
      "metadata": {
        "id": "fml7VXdxXHFu"
      },
      "outputs": [],
      "source": [
        "import numpy\n",
        "arrays=list(map(int, input().split()))\n",
        "change_array = numpy.array(arrays)\n",
        "change_array.shape = (3, 3)\n",
        "print (change_array)\n"
      ]
    },
    {
      "cell_type": "code",
      "source": [],
      "metadata": {
        "id": "jmSTx647dLNi"
      },
      "execution_count": null,
      "outputs": []
    }
  ]
}