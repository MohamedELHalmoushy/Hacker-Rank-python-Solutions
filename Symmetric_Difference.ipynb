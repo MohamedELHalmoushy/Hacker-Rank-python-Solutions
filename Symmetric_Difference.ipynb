{
  "nbformat": 4,
  "nbformat_minor": 0,
  "metadata": {
    "colab": {
      "provenance": []
    },
    "kernelspec": {
      "name": "python3",
      "display_name": "Python 3"
    },
    "language_info": {
      "name": "python"
    }
  },
  "cells": [
    {
      "cell_type": "code",
      "execution_count": 57,
      "metadata": {
        "id": "fml7VXdxXHFu"
      },
      "outputs": [],
      "source": [
        "M = int(input())\n",
        "set_a = set(map(int, input().split()))\n",
        "N = int(input())\n",
        "set_b = set(map(int, input().split()))\n",
        "symmetric_diff = sorted(set_a.symmetric_difference(set_b))\n",
        "\n",
        "for item in symmetric_diff:\n",
        "    print(item)\n"
      ]
    },
    {
      "cell_type": "code",
      "source": [],
      "metadata": {
        "id": "jmSTx647dLNi"
      },
      "execution_count": null,
      "outputs": []
    }
  ]
}