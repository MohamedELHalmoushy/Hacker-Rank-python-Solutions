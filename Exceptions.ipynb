{
  "nbformat": 4,
  "nbformat_minor": 0,
  "metadata": {
    "colab": {
      "provenance": []
    },
    "kernelspec": {
      "name": "python3",
      "display_name": "Python 3"
    },
    "language_info": {
      "name": "python"
    }
  },
  "cells": [
    {
      "cell_type": "code",
      "execution_count": 54,
      "metadata": {
        "colab": {
          "base_uri": "https://localhost:8080/"
        },
        "id": "fml7VXdxXHFu",
        "outputId": "851a9b74-9aed-4989-9d7f-3815b379cddc"
      },
      "outputs": [
        {
          "output_type": "stream",
          "name": "stdout",
          "text": [
            "3 \n",
            "1 0 \n",
            "Error Code: integer division or modulo by zero\n",
            "2 $\n",
            "Error Code: invalid literal for int() with base 10: '$'\n",
            " 3 1\n",
            "3\n"
          ]
        }
      ],
      "source": [
        "T = int(input())\n",
        "for i in range(T):\n",
        "    values = input().split()\n",
        "    try:\n",
        "        a = int(values[0])\n",
        "        b = int(values[1])\n",
        "        result = a // b\n",
        "        print(result)\n",
        "    except ZeroDivisionError as e:\n",
        "        print(\"Error Code:\", e)\n",
        "    except ValueError as e:\n",
        "        print(\"Error Code:\", e)\n"
      ]
    },
    {
      "cell_type": "code",
      "source": [],
      "metadata": {
        "id": "jmSTx647dLNi"
      },
      "execution_count": null,
      "outputs": []
    }
  ]
}