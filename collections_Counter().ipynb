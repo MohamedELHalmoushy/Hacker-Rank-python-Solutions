{
  "nbformat": 4,
  "nbformat_minor": 0,
  "metadata": {
    "colab": {
      "provenance": []
    },
    "kernelspec": {
      "name": "python3",
      "display_name": "Python 3"
    },
    "language_info": {
      "name": "python"
    }
  },
  "cells": [
    {
      "cell_type": "code",
      "execution_count": 46,
      "metadata": {
        "colab": {
          "base_uri": "https://localhost:8080/"
        },
        "id": "fml7VXdxXHFu",
        "outputId": "ca8dc324-6f95-4155-b7a9-da80d5672343"
      },
      "outputs": [
        {
          "output_type": "stream",
          "name": "stdout",
          "text": [
            "10\n",
            " 2 3 4 5 6 8 7 6 5 18\n",
            " 6\n",
            " 6 55\n",
            " 6 45\n",
            " 6 55\n",
            " 4 40\n",
            " 18 60\n",
            " 10 50\n",
            "200\n"
          ]
        }
      ],
      "source": [
        "num_shoes = int(input())\n",
        "shoe_list = [int(x) for x in input().split()]\n",
        "shoe_inventory = {}\n",
        "\n",
        "for size in shoe_list:\n",
        "    if size in shoe_inventory:\n",
        "        shoe_inventory[size] += 1\n",
        "    else:\n",
        "        shoe_inventory[size] = 1\n",
        "\n",
        "num_customers = int(input())\n",
        "total_earnings = 0\n",
        "\n",
        "for _ in range(num_customers):\n",
        "    size, price = map(int, input().split())\n",
        "    if size in shoe_inventory and shoe_inventory[size] > 0:\n",
        "        total_earnings += price\n",
        "        shoe_inventory[size] -= 1\n",
        "print(total_earnings)"
      ]
    },
    {
      "cell_type": "code",
      "source": [],
      "metadata": {
        "id": "jmSTx647dLNi"
      },
      "execution_count": null,
      "outputs": []
    }
  ]
}