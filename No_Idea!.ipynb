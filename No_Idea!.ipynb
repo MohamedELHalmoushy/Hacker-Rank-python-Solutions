{
  "nbformat": 4,
  "nbformat_minor": 0,
  "metadata": {
    "colab": {
      "provenance": []
    },
    "kernelspec": {
      "name": "python3",
      "display_name": "Python 3"
    },
    "language_info": {
      "name": "python"
    }
  },
  "cells": [
    {
      "cell_type": "code",
      "execution_count": 57,
      "metadata": {
        "id": "fml7VXdxXHFu"
      },
      "outputs": [],
      "source": [
        "n,m=map(int,input().split())\n",
        "arr = list(map(int, input().split()))\n",
        "a=set(map(int, input().split()))\n",
        "b=set(map(int, input().split()))\n",
        "total_happiness=0\n",
        "for number in arr:\n",
        "    if number in a:\n",
        "        total_happiness+=1\n",
        "    elif number in b:\n",
        "        total_happiness-=1\n",
        "print(total_happiness)\n"
      ]
    },
    {
      "cell_type": "code",
      "source": [],
      "metadata": {
        "id": "jmSTx647dLNi"
      },
      "execution_count": null,
      "outputs": []
    }
  ]
}