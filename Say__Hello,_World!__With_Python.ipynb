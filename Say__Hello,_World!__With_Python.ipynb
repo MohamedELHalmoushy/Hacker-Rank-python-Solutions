{
  "nbformat": 4,
  "nbformat_minor": 0,
  "metadata": {
    "colab": {
      "provenance": []
    },
    "kernelspec": {
      "name": "python3",
      "display_name": "Python 3"
    },
    "language_info": {
      "name": "python"
    }
  },
  "cells": [
    {
      "cell_type": "code",
      "execution_count": null,
      "metadata": {
        "colab": {
          "base_uri": "https://localhost:8080/"
        },
        "id": "fml7VXdxXHFu",
        "outputId": "8125a2c8-d36f-494c-9794-3f7b4d1b471c"
      },
      "outputs": [
        {
          "output_type": "stream",
          "name": "stdout",
          "text": [
            "Hello, World!\n"
          ]
        }
      ],
      "source": [
        "if __name__ == '__main__':\n",
        "    print(\"Hello, World!\")\n"
      ]
    },
    {
      "cell_type": "code",
      "source": [],
      "metadata": {
        "id": "Cw2rnYaAXX5L"
      },
      "execution_count": null,
      "outputs": []
    }
  ]
}