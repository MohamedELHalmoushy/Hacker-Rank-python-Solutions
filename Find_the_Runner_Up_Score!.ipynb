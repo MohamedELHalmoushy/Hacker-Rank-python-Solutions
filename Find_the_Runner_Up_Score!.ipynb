{
  "nbformat": 4,
  "nbformat_minor": 0,
  "metadata": {
    "colab": {
      "provenance": []
    },
    "kernelspec": {
      "name": "python3",
      "display_name": "Python 3"
    },
    "language_info": {
      "name": "python"
    }
  },
  "cells": [
    {
      "cell_type": "code",
      "execution_count": 15,
      "metadata": {
        "colab": {
          "base_uri": "https://localhost:8080/"
        },
        "id": "fml7VXdxXHFu",
        "outputId": "4abd9282-c2ae-4938-e756-5f27954f168e"
      },
      "outputs": [
        {
          "output_type": "stream",
          "name": "stdout",
          "text": [
            "5\n",
            "2 3 6 6 5\n",
            "5\n"
          ]
        }
      ],
      "source": [
        "if __name__ == '__main__':\n",
        "    n = int(input())\n",
        "    arr = map(int, input().split())\n",
        "    first = second =-1000000000\n",
        "    for score in arr:\n",
        "        if score > first:\n",
        "            second = first\n",
        "            first = score\n",
        "        elif score > second and score != first:\n",
        "            second = score\n",
        "\n",
        "    print(second)\n"
      ]
    },
    {
      "cell_type": "code",
      "source": [],
      "metadata": {
        "id": "Cw2rnYaAXX5L"
      },
      "execution_count": null,
      "outputs": []
    }
  ]
}