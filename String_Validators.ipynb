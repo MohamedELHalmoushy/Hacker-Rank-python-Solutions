{
  "nbformat": 4,
  "nbformat_minor": 0,
  "metadata": {
    "colab": {
      "provenance": []
    },
    "kernelspec": {
      "name": "python3",
      "display_name": "Python 3"
    },
    "language_info": {
      "name": "python"
    }
  },
  "cells": [
    {
      "cell_type": "code",
      "execution_count": 42,
      "metadata": {
        "colab": {
          "base_uri": "https://localhost:8080/"
        },
        "id": "fml7VXdxXHFu",
        "outputId": "4f97ccbd-456e-4c1a-9032-a9028a534912"
      },
      "outputs": [
        {
          "output_type": "stream",
          "name": "stdout",
          "text": [
            "qA2\n",
            "True\n",
            "True\n",
            "True\n",
            "True\n",
            "True\n"
          ]
        }
      ],
      "source": [
        "if __name__ == '__main__':\n",
        "    s = input()\n",
        "    alnum = False\n",
        "    alpha = False\n",
        "    digit = False\n",
        "    lower = False\n",
        "    upper = False\n",
        "    for char in s:\n",
        "        if char.isalnum():\n",
        "            alnum = True\n",
        "        if char.isalpha():\n",
        "            alpha = True\n",
        "        if char.isdigit():\n",
        "            digit = True\n",
        "        if char.islower():\n",
        "            lower = True\n",
        "        if char.isupper():\n",
        "            upper = True\n",
        "    print(alnum)\n",
        "    print(alpha)\n",
        "    print(digit)\n",
        "    print(lower)\n",
        "    print(upper)"
      ]
    },
    {
      "cell_type": "code",
      "source": [],
      "metadata": {
        "id": "jmSTx647dLNi"
      },
      "execution_count": null,
      "outputs": []
    }
  ]
}