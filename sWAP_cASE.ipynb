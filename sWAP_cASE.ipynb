{
  "nbformat": 4,
  "nbformat_minor": 0,
  "metadata": {
    "colab": {
      "provenance": []
    },
    "kernelspec": {
      "name": "python3",
      "display_name": "Python 3"
    },
    "language_info": {
      "name": "python"
    }
  },
  "cells": [
    {
      "cell_type": "code",
      "execution_count": 26,
      "metadata": {
        "colab": {
          "base_uri": "https://localhost:8080/"
        },
        "id": "fml7VXdxXHFu",
        "outputId": "fa214996-d48d-40c0-abf9-5f6c38bca1da"
      },
      "outputs": [
        {
          "output_type": "stream",
          "name": "stdout",
          "text": [
            "MohamedAyman\n",
            "mOHAMEDaYMAN\n"
          ]
        }
      ],
      "source": [
        "def swap_case(s):\n",
        "\n",
        "    return s.swapcase()\n",
        "\n",
        "if __name__ == '__main__':\n",
        "    s = input()\n",
        "    result = swap_case(s)\n",
        "    print(result)"
      ]
    },
    {
      "cell_type": "code",
      "source": [],
      "metadata": {
        "id": "jmSTx647dLNi"
      },
      "execution_count": null,
      "outputs": []
    }
  ]
}