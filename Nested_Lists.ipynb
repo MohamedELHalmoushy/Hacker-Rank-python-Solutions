{
  "nbformat": 4,
  "nbformat_minor": 0,
  "metadata": {
    "colab": {
      "provenance": []
    },
    "kernelspec": {
      "name": "python3",
      "display_name": "Python 3"
    },
    "language_info": {
      "name": "python"
    }
  },
  "cells": [
    {
      "cell_type": "code",
      "execution_count": 17,
      "metadata": {
        "colab": {
          "base_uri": "https://localhost:8080/"
        },
        "id": "fml7VXdxXHFu",
        "outputId": "eb94fe58-5d1b-4cf8-f6dd-400cd0f02ff6"
      },
      "outputs": [
        {
          "output_type": "stream",
          "name": "stdout",
          "text": [
            "5\n",
            "Harry\n",
            "37.21\n",
            "Berry\n",
            "37.21\n",
            "Tina\n",
            "37.2\n",
            "Akriti\n",
            "41\n",
            "Harsh\n",
            "39\n",
            "Berry\n",
            "Harry\n"
          ]
        }
      ],
      "source": [
        "if __name__ == '__main__':\n",
        "    students = []\n",
        "    n = int(input())\n",
        "    for i in range(n):\n",
        "        name = input()\n",
        "        grade = float(input())\n",
        "        students.append([name, grade])\n",
        "    all_grades = []\n",
        "    for student in students:\n",
        "        all_grades.append(student[1])\n",
        "    unique_grades = []\n",
        "    for grade in all_grades:\n",
        "        if grade not in unique_grades:\n",
        "            unique_grades.append(grade)\n",
        "    unique_grades.sort()\n",
        "    second_lowest = unique_grades[1]\n",
        "    second_lowest_names = []\n",
        "    for student in students:\n",
        "        if student[1] == second_lowest:\n",
        "            second_lowest_names.append(student[0])\n",
        "    second_lowest_names.sort()\n",
        "    for name in second_lowest_names:\n",
        "        print(name)\n"
      ]
    },
    {
      "cell_type": "code",
      "source": [],
      "metadata": {
        "id": "Cw2rnYaAXX5L"
      },
      "execution_count": null,
      "outputs": []
    }
  ]
}