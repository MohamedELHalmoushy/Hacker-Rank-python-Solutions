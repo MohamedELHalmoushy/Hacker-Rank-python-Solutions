{
  "nbformat": 4,
  "nbformat_minor": 0,
  "metadata": {
    "colab": {
      "provenance": []
    },
    "kernelspec": {
      "name": "python3",
      "display_name": "Python 3"
    },
    "language_info": {
      "name": "python"
    }
  },
  "cells": [
    {
      "cell_type": "code",
      "execution_count": 57,
      "metadata": {
        "id": "fml7VXdxXHFu"
      },
      "outputs": [],
      "source": [
        "import math\n",
        "\n",
        "class Complex(object):\n",
        "    def __init__(self, real, imaginary):\n",
        "        self.real = real\n",
        "        self.imaginary = imaginary\n",
        "\n",
        "    def __add__(self, no):\n",
        "        return Complex(self.real+no.real,self.imaginary+no.imaginary)\n",
        "\n",
        "    def __sub__(self, no):\n",
        "        return Complex(self.real-no.real,self.imaginary-no.imaginary)\n",
        "\n",
        "    def __mul__(self, no):\n",
        "        real = self.real * no.real - self.imaginary * no.imaginary\n",
        "        imaginary = self.real * no.imaginary + self.imaginary * no.real\n",
        "        return Complex(real, imaginary)\n",
        "\n",
        "    def __truediv__(self, no):\n",
        "        denominator = no.real**2 + no.imaginary**2\n",
        "        real = (self.real * no.real + self.imaginary * no.imaginary) / denominator\n",
        "        imaginary = (self.imaginary * no.real - self.real * no.imaginary) / denominator\n",
        "        return Complex(real, imaginary)\n",
        "    def mod(self):\n",
        "        return(Complex(math.sqrt(((self.real)**2)+((self.imaginary)**2)),0))\n",
        "\n",
        "    def __str__(self):\n",
        "        if self.imaginary == 0:\n",
        "            result = \"%.2f+0.00i\" % (self.real)\n",
        "        elif self.real == 0:\n",
        "            if self.imaginary >= 0:\n",
        "                result = \"0.00+%.2fi\" % (self.imaginary)\n",
        "            else:\n",
        "                result = \"0.00-%.2fi\" % (abs(self.imaginary))\n",
        "        elif self.imaginary > 0:\n",
        "            result = \"%.2f+%.2fi\" % (self.real, self.imaginary)\n",
        "        else:\n",
        "            result = \"%.2f-%.2fi\" % (self.real, abs(self.imaginary))\n",
        "        return result\n",
        "\n",
        "if __name__ == '__main__':\n",
        "    c = map(float, input().split())\n",
        "    d = map(float, input().split())\n",
        "    x = Complex(*c)\n",
        "    y = Complex(*d)\n",
        "    print(*map(str, [x+y, x-y, x*y, x/y, x.mod(), y.mod()]), sep='\\n')"
      ]
    },
    {
      "cell_type": "code",
      "source": [],
      "metadata": {
        "id": "jmSTx647dLNi"
      },
      "execution_count": null,
      "outputs": []
    }
  ]
}