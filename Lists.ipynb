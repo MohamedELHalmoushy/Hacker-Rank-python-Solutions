{
  "nbformat": 4,
  "nbformat_minor": 0,
  "metadata": {
    "colab": {
      "provenance": []
    },
    "kernelspec": {
      "name": "python3",
      "display_name": "Python 3"
    },
    "language_info": {
      "name": "python"
    }
  },
  "cells": [
    {
      "cell_type": "code",
      "execution_count": 24,
      "metadata": {
        "colab": {
          "base_uri": "https://localhost:8080/"
        },
        "id": "fml7VXdxXHFu",
        "outputId": "bb16089f-cd2d-453f-9cf6-eddd72630147"
      },
      "outputs": [
        {
          "name": "stdout",
          "output_type": "stream",
          "text": [
            "3\n",
            "insert 0 5\n",
            "insert 1 10\n",
            "append 9\n"
          ]
        }
      ],
      "source": [
        "if __name__ == '__main__':\n",
        "    N = int(input())\n",
        "    list=[]\n",
        "    for i in range(N):\n",
        "        enter= input().split()\n",
        "        if enter[0] ==\"insert\":\n",
        "            list.insert(int(enter[1]),int(enter[2]))\n",
        "        elif enter[0]==\"print\":\n",
        "            print(list)\n",
        "        elif enter[0] ==\"remove\":\n",
        "            list.remove(int(enter[1]))\n",
        "        elif enter[0] == 'append':\n",
        "            list.append(int(enter[1]))\n",
        "        elif enter[0] == 'sort':\n",
        "            list.sort()\n",
        "        elif enter[0] == 'pop':\n",
        "            list.pop()\n",
        "        elif enter[0] == 'reverse':\n",
        "            list.reverse()\n"
      ]
    },
    {
      "cell_type": "code",
      "source": [],
      "metadata": {
        "id": "jmSTx647dLNi"
      },
      "execution_count": null,
      "outputs": []
    }
  ]
}